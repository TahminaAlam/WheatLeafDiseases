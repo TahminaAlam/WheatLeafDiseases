{
 "cells": [
  {
   "cell_type": "code",
   "execution_count": 1,
   "metadata": {
    "id": "gWgv6SkDzErD"
   },
   "outputs": [],
   "source": [
    "import tensorflow as tf\n",
    "from keras.models import Model, Sequential\n",
    "from keras.layers import Activation, Dense, BatchNormalization, concatenate, Dropout, Conv2D, Conv2DTranspose, MaxPooling2D, UpSampling2D, Input, Reshape\n",
    "from keras.callbacks import EarlyStopping\n",
    "from keras.layers.core import SpatialDropout2D\n",
    "from keras import backend as K\n",
    "from tensorflow.keras.optimizers import Adam, RMSprop,SGD,Adagrad\n",
    "import numpy as np\n",
    "import pandas as pd\n",
    "import glob\n",
    "import PIL\n",
    "from PIL import Image\n",
    "import matplotlib.pyplot as plt\n",
    "import cv2\n",
    "%matplotlib inline\n",
    "import os\n",
    "from tensorflow.keras.preprocessing.image import ImageDataGenerator\n",
    "from tensorflow.keras.layers import Dense, Flatten, Dropout\n",
    "from tensorflow.keras.applications import EfficientNetB7\n",
    "from tensorflow.keras import layers\n",
    "from tensorflow.keras.callbacks import EarlyStopping\n",
    "\n",
    "from keras.preprocessing.image import ImageDataGenerator\n",
    "from sklearn.model_selection import train_test_split\n",
    "from warnings import filterwarnings\n",
    "from keras.models import load_model\n",
    "import itertools \n",
    "filterwarnings('ignore')\n",
    "np.random.seed(101)\n",
    "from sklearn.metrics import classification_report, confusion_matrix"
   ]
  },
  {
   "cell_type": "code",
   "execution_count": 2,
   "metadata": {
    "colab": {
     "base_uri": "https://localhost:8080/"
    },
    "id": "zObrtHB1zPGC",
    "outputId": "1ddf7476-9767-422b-afb1-c53b2a40eb6c"
   },
   "outputs": [
    {
     "name": "stdout",
     "output_type": "stream",
     "text": [
      "Sat Jun 24 15:03:34 2023       \n",
      "+-----------------------------------------------------------------------------+\n",
      "| NVIDIA-SMI 527.37       Driver Version: 527.37       CUDA Version: 12.0     |\n",
      "|-------------------------------+----------------------+----------------------+\n",
      "| GPU  Name            TCC/WDDM | Bus-Id        Disp.A | Volatile Uncorr. ECC |\n",
      "| Fan  Temp  Perf  Pwr:Usage/Cap|         Memory-Usage | GPU-Util  Compute M. |\n",
      "|                               |                      |               MIG M. |\n",
      "|===============================+======================+======================|\n",
      "|   0  NVIDIA GeForce ... WDDM  | 00000000:06:00.0  On |                  N/A |\n",
      "|  0%   51C    P8    21W / 215W |    459MiB /  8192MiB |      5%      Default |\n",
      "|                               |                      |                  N/A |\n",
      "+-------------------------------+----------------------+----------------------+\n",
      "                                                                               \n",
      "+-----------------------------------------------------------------------------+\n",
      "| Processes:                                                                  |\n",
      "|  GPU   GI   CI        PID   Type   Process name                  GPU Memory |\n",
      "|        ID   ID                                                   Usage      |\n",
      "|=============================================================================|\n",
      "|    0   N/A  N/A       316    C+G   ...8wekyb3d8bbwe\\GameBar.exe    N/A      |\n",
      "|    0   N/A  N/A      2236    C+G   ...823.51\\msedgewebview2.exe    N/A      |\n",
      "|    0   N/A  N/A      2272    C+G   ...me\\Application\\chrome.exe    N/A      |\n",
      "|    0   N/A  N/A      6100    C+G   ...lPanel\\SystemSettings.exe    N/A      |\n",
      "|    0   N/A  N/A      7180    C+G   C:\\Windows\\explorer.exe         N/A      |\n",
      "|    0   N/A  N/A     10004    C+G   ...8bbwe\\WindowsTerminal.exe    N/A      |\n",
      "|    0   N/A  N/A     10464    C+G   ...wekyb3d8bbwe\\Video.UI.exe    N/A      |\n",
      "|    0   N/A  N/A     10668    C+G   ...cw5n1h2txyewy\\LockApp.exe    N/A      |\n",
      "|    0   N/A  N/A     10824    C+G   ...n1h2txyewy\\SearchHost.exe    N/A      |\n",
      "|    0   N/A  N/A     10848    C+G   ...artMenuExperienceHost.exe    N/A      |\n",
      "|    0   N/A  N/A     11480    C+G   ...v1g1gvanyjgm\\WhatsApp.exe    N/A      |\n",
      "|    0   N/A  N/A     12988    C+G   ...y\\ShellExperienceHost.exe    N/A      |\n",
      "|    0   N/A  N/A     13028    C+G   ...2txyewy\\TextInputHost.exe    N/A      |\n",
      "|    0   N/A  N/A     13188    C+G   ...e\\PhoneExperienceHost.exe    N/A      |\n",
      "+-----------------------------------------------------------------------------+\n"
     ]
    }
   ],
   "source": [
    "gpu_info = !nvidia-smi\n",
    "gpu_info = '\\n'.join(gpu_info)\n",
    "if gpu_info.find('failed') >= 0:\n",
    "  print('Not connected to a GPU')\n",
    "else:\n",
    "  print(gpu_info)\n",
    "\n",
    "gpus = tf.config.experimental.list_physical_devices('GPU')\n",
    "for gpu in gpus:\n",
    "    tf.config.experimental.set_memory_growth(gpu, True)"
   ]
  },
  {
   "cell_type": "code",
   "execution_count": 3,
   "metadata": {
    "id": "4PFtoJe0zS1P"
   },
   "outputs": [],
   "source": [
    "train_dir =\"Dataset/wheat_leaf/Train\"\n",
    "val_dir=\"Dataset/wheat_leaf/Test\"\n",
    "test_dir=\"Dataset/wheat_leaf/Test\"\n",
    "labels = ['Healthy', 'septoria', 'stripe_rust']\n",
    "label_np=np.array(labels)"
   ]
  },
  {
   "cell_type": "code",
   "execution_count": 4,
   "metadata": {
    "id": "ENfbwRQuzsFa"
   },
   "outputs": [],
   "source": [
    "import tensorflow as tf\n",
    "import numpy as np\n",
    "import os\n",
    "import random\n",
    "\n",
    "\n",
    "def set_seed(seed):\n",
    "    tf.random.set_seed(seed)\n",
    "    os.environ['PYTHONHASHSEED'] = str(seed)\n",
    "    np.random.seed(seed)\n",
    "    random.seed(seed)\n",
    "\n",
    "\n",
    "seed = 101\n",
    "set_seed(seed)"
   ]
  },
  {
   "cell_type": "code",
   "execution_count": 5,
   "metadata": {
    "colab": {
     "base_uri": "https://localhost:8080/"
    },
    "id": "yWz_7k2iztTG",
    "outputId": "19618990-3463-4fa9-d200-b74d8c7c4f5c"
   },
   "outputs": [],
   "source": [
    "model1 = EfficientNetB7(include_top=False,input_shape=(224, 224,3), weights='imagenet')\n",
    "input_shape = (224, 224)"
   ]
  },
  {
   "cell_type": "code",
   "execution_count": 6,
   "metadata": {
    "colab": {
     "base_uri": "https://localhost:8080/"
    },
    "id": "fdnfETZZzxUh",
    "outputId": "1b8ef118-4c71-4562-e7ab-1dd13fc68083"
   },
   "outputs": [
    {
     "name": "stdout",
     "output_type": "stream",
     "text": [
      "Found 328 images belonging to 3 classes.\n",
      "Found 79 images belonging to 3 classes.\n",
      "Found 79 images belonging to 3 classes.\n"
     ]
    }
   ],
   "source": [
    "datagen_train = ImageDataGenerator(rescale=1./255)\n",
    "\n",
    "datagen_test = ImageDataGenerator(rescale=1./255)\n",
    "\n",
    "datagen_val=ImageDataGenerator(rescale=1./255)\n",
    "\n",
    "batch_size = 4\n",
    "generator_train = datagen_train.flow_from_directory(directory=train_dir,\n",
    "                                                    target_size=input_shape,\n",
    "                                                    batch_size=batch_size,                                        \n",
    "                                                    shuffle=True)\n",
    "\n",
    "generator_val = datagen_val.flow_from_directory(directory=val_dir,\n",
    "                                                  target_size=input_shape,\n",
    "                                                  batch_size=batch_size,\n",
    "                                                  shuffle=False)\n",
    "generator_test=datagen_test.flow_from_directory(directory=test_dir,\n",
    "                                                  target_size=input_shape,\n",
    "                                                 batch_size=batch_size,\n",
    "                                                 shuffle=False)"
   ]
  },
  {
   "cell_type": "code",
   "execution_count": null,
   "metadata": {
    "colab": {
     "base_uri": "https://localhost:8080/"
    },
    "id": "0O0molk50igy",
    "outputId": "c7f6766d-9577-4bc8-929a-734eb71127d6"
   },
   "outputs": [],
   "source": [
    "headModel = model1.output\n",
    "headModel = layers.Flatten()(headModel)\n",
    "headModel = Dense(3, activation=\"softmax\")(headModel)\n",
    "model = Model(inputs=model1.input, outputs=headModel)\n",
    "model.summary()"
   ]
  },
  {
   "cell_type": "code",
   "execution_count": 8,
   "metadata": {
    "id": "IMGAtVpV0pfJ"
   },
   "outputs": [],
   "source": [
    "optimizer = Adam(lr=1e-5)\n",
    "loss = 'categorical_crossentropy'\n",
    "metrics = ['accuracy','Precision','Recall', 'AUC']\n",
    "model.compile(optimizer=optimizer, loss=loss, metrics=metrics)\n"
   ]
  },
  {
   "cell_type": "code",
   "execution_count": 9,
   "metadata": {
    "colab": {
     "base_uri": "https://localhost:8080/"
    },
    "id": "mWlXo-1V0yLb",
    "outputId": "b06b0122-578f-4cc7-e3e0-04fed8e7286c"
   },
   "outputs": [
    {
     "name": "stdout",
     "output_type": "stream",
     "text": [
      "Epoch 1/50\n",
      "82/82 [==============================] - 106s 963ms/step - loss: 0.8782 - accuracy: 0.6006 - precision: 0.6875 - recall: 0.5030 - auc: 0.7839 - val_loss: 4.9467 - val_accuracy: 0.2658 - val_precision: 0.2658 - val_recall: 0.2658 - val_auc: 0.5127\n",
      "Epoch 2/50\n",
      "82/82 [==============================] - 74s 895ms/step - loss: 0.4505 - accuracy: 0.8415 - precision: 0.8678 - recall: 0.7805 - auc: 0.9550 - val_loss: 4.9925 - val_accuracy: 0.2658 - val_precision: 0.2658 - val_recall: 0.2658 - val_auc: 0.5013\n",
      "Epoch 3/50\n",
      "82/82 [==============================] - 74s 899ms/step - loss: 0.2813 - accuracy: 0.9085 - precision: 0.9204 - recall: 0.8811 - auc: 0.9864 - val_loss: 3.2298 - val_accuracy: 0.2785 - val_precision: 0.2785 - val_recall: 0.2785 - val_auc: 0.5063\n",
      "Epoch 4/50\n",
      "82/82 [==============================] - 74s 901ms/step - loss: 0.1978 - accuracy: 0.9512 - precision: 0.9625 - recall: 0.9390 - auc: 0.9948 - val_loss: 2.3743 - val_accuracy: 0.2532 - val_precision: 0.2532 - val_recall: 0.2532 - val_auc: 0.4854\n",
      "Epoch 5/50\n",
      "82/82 [==============================] - 74s 900ms/step - loss: 0.1430 - accuracy: 0.9817 - precision: 0.9847 - recall: 0.9787 - auc: 0.9978 - val_loss: 2.0742 - val_accuracy: 0.2532 - val_precision: 0.2532 - val_recall: 0.2532 - val_auc: 0.4831\n",
      "Epoch 6/50\n",
      "82/82 [==============================] - 74s 905ms/step - loss: 0.1250 - accuracy: 0.9726 - precision: 0.9785 - recall: 0.9726 - auc: 0.9986 - val_loss: 1.3634 - val_accuracy: 0.3671 - val_precision: 0.3714 - val_recall: 0.3291 - val_auc: 0.5935\n",
      "Epoch 7/50\n",
      "82/82 [==============================] - 74s 905ms/step - loss: 0.0705 - accuracy: 0.9909 - precision: 0.9939 - recall: 0.9909 - auc: 0.9994 - val_loss: 0.8437 - val_accuracy: 0.6329 - val_precision: 0.6970 - val_recall: 0.5823 - val_auc: 0.8105\n",
      "Epoch 8/50\n",
      "82/82 [==============================] - 74s 903ms/step - loss: 0.0703 - accuracy: 0.9848 - precision: 0.9848 - recall: 0.9848 - auc: 0.9997 - val_loss: 0.6318 - val_accuracy: 0.7595 - val_precision: 0.7534 - val_recall: 0.6962 - val_auc: 0.8921\n",
      "Epoch 9/50\n",
      "82/82 [==============================] - 74s 901ms/step - loss: 0.0537 - accuracy: 0.9970 - precision: 0.9970 - recall: 0.9970 - auc: 0.9999 - val_loss: 0.4919 - val_accuracy: 0.8608 - val_precision: 0.8514 - val_recall: 0.7975 - val_auc: 0.9393\n",
      "Epoch 10/50\n",
      "82/82 [==============================] - 74s 904ms/step - loss: 0.0387 - accuracy: 1.0000 - precision: 1.0000 - recall: 1.0000 - auc: 1.0000 - val_loss: 0.4096 - val_accuracy: 0.8734 - val_precision: 0.9189 - val_recall: 0.8608 - val_auc: 0.9542\n",
      "Epoch 11/50\n",
      "82/82 [==============================] - 74s 905ms/step - loss: 0.0375 - accuracy: 0.9970 - precision: 0.9970 - recall: 0.9970 - auc: 0.9999 - val_loss: 0.3853 - val_accuracy: 0.8861 - val_precision: 0.9091 - val_recall: 0.8861 - val_auc: 0.9551\n",
      "Epoch 12/50\n",
      "82/82 [==============================] - 74s 901ms/step - loss: 0.0316 - accuracy: 1.0000 - precision: 1.0000 - recall: 1.0000 - auc: 1.0000 - val_loss: 0.3603 - val_accuracy: 0.8861 - val_precision: 0.8846 - val_recall: 0.8734 - val_auc: 0.9628\n",
      "Epoch 13/50\n",
      "82/82 [==============================] - 74s 900ms/step - loss: 0.0170 - accuracy: 1.0000 - precision: 1.0000 - recall: 1.0000 - auc: 1.0000 - val_loss: 0.3643 - val_accuracy: 0.8608 - val_precision: 0.8718 - val_recall: 0.8608 - val_auc: 0.9619\n",
      "Epoch 14/50\n",
      "82/82 [==============================] - 74s 902ms/step - loss: 0.0212 - accuracy: 1.0000 - precision: 1.0000 - recall: 1.0000 - auc: 1.0000 - val_loss: 0.3465 - val_accuracy: 0.8608 - val_precision: 0.8718 - val_recall: 0.8608 - val_auc: 0.9668\n",
      "Epoch 15/50\n",
      "82/82 [==============================] - 74s 900ms/step - loss: 0.0173 - accuracy: 0.9970 - precision: 0.9970 - recall: 0.9970 - auc: 1.0000 - val_loss: 0.3492 - val_accuracy: 0.8861 - val_precision: 0.8947 - val_recall: 0.8608 - val_auc: 0.9660\n",
      "Epoch 16/50\n",
      "82/82 [==============================] - 74s 902ms/step - loss: 0.0201 - accuracy: 1.0000 - precision: 1.0000 - recall: 1.0000 - auc: 1.0000 - val_loss: 0.3496 - val_accuracy: 0.8734 - val_precision: 0.8846 - val_recall: 0.8734 - val_auc: 0.9661\n",
      "Epoch 17/50\n",
      "82/82 [==============================] - 74s 899ms/step - loss: 0.0152 - accuracy: 1.0000 - precision: 1.0000 - recall: 1.0000 - auc: 1.0000 - val_loss: 0.3449 - val_accuracy: 0.8861 - val_precision: 0.8974 - val_recall: 0.8861 - val_auc: 0.9681\n",
      "Epoch 18/50\n",
      "82/82 [==============================] - 74s 901ms/step - loss: 0.0111 - accuracy: 1.0000 - precision: 1.0000 - recall: 1.0000 - auc: 1.0000 - val_loss: 0.3464 - val_accuracy: 0.8861 - val_precision: 0.8861 - val_recall: 0.8861 - val_auc: 0.9668\n",
      "Epoch 19/50\n",
      "82/82 [==============================] - 74s 900ms/step - loss: 0.0177 - accuracy: 1.0000 - precision: 1.0000 - recall: 1.0000 - auc: 1.0000 - val_loss: 0.3434 - val_accuracy: 0.8734 - val_precision: 0.8718 - val_recall: 0.8608 - val_auc: 0.9683\n",
      "Epoch 20/50\n",
      "82/82 [==============================] - 74s 901ms/step - loss: 0.0135 - accuracy: 1.0000 - precision: 1.0000 - recall: 1.0000 - auc: 1.0000 - val_loss: 0.3681 - val_accuracy: 0.8608 - val_precision: 0.8831 - val_recall: 0.8608 - val_auc: 0.9620\n",
      "Epoch 21/50\n",
      "82/82 [==============================] - 74s 900ms/step - loss: 0.0130 - accuracy: 0.9970 - precision: 0.9970 - recall: 0.9970 - auc: 1.0000 - val_loss: 0.3726 - val_accuracy: 0.8608 - val_precision: 0.8831 - val_recall: 0.8608 - val_auc: 0.9617\n",
      "Epoch 22/50\n",
      "82/82 [==============================] - 74s 904ms/step - loss: 0.0091 - accuracy: 1.0000 - precision: 1.0000 - recall: 0.9970 - auc: 1.0000 - val_loss: 0.3607 - val_accuracy: 0.8481 - val_precision: 0.8701 - val_recall: 0.8481 - val_auc: 0.9629\n"
     ]
    }
   ],
   "source": [
    "\n",
    "steps_per_epoch = generator_train.n / batch_size\n",
    "steps_test = generator_test.n / batch_size\n",
    "\n",
    "earlystopping = EarlyStopping(monitor =\"val_loss\", \n",
    "                              mode =\"min\", patience = 3, \n",
    "                              restore_best_weights = True)\n",
    "history = model.fit_generator(generator=generator_train,\n",
    "                              epochs=50,\n",
    "                              validation_data=generator_val,\n",
    "                              validation_steps=steps_test,\n",
    "                              callbacks =[earlystopping]\n",
    "                              )\n"
   ]
  },
  {
   "cell_type": "code",
   "execution_count": null,
   "metadata": {},
   "outputs": [],
   "source": [
    "headModel = model1.output\n",
    "headModel = layers.Flatten()(headModel)\n",
    "model = Model(inputs=model1.input, outputs=headModel)"
   ]
  }
 ],
 "metadata": {
  "accelerator": "GPU",
  "colab": {
   "collapsed_sections": [],
   "provenance": []
  },
  "gpuClass": "standard",
  "kernelspec": {
   "display_name": "Python 3 (ipykernel)",
   "language": "python",
   "name": "python3"
  },
  "language_info": {
   "codemirror_mode": {
    "name": "ipython",
    "version": 3
   },
   "file_extension": ".py",
   "mimetype": "text/x-python",
   "name": "python",
   "nbconvert_exporter": "python",
   "pygments_lexer": "ipython3",
   "version": "3.9.16"
  }
 },
 "nbformat": 4,
 "nbformat_minor": 1
}
